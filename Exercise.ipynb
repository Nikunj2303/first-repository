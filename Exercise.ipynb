{
 "cells": [
  {
   "cell_type": "code",
   "execution_count": 14,
   "id": "0f95f209",
   "metadata": {},
   "outputs": [],
   "source": [
    "class Category:\n",
    "    def __init__(self, name, code):\n",
    "        self.name = name\n",
    "        self.code = code\n",
    "        self.no_of_products = 0\n",
    "\n",
    "class Product:\n",
    "    def __init__(self, name, code, category, price):\n",
    "        self.name = name\n",
    "        self.code = code\n",
    "        self.category = category\n",
    "        self.price = price\n",
    "\n",
    "category1 = Category(\"Electronics\", \"E001\")\n",
    "category2 = Category(\"Clothing\", \"C002\")\n",
    "category3 = Category(\"Books\", \"B003\")\n",
    "# Create 10 different Product objects\n",
    "products = [\n",
    "    Product(\"Laptop\", \"P001\", category1, 1200),\n",
    "    Product(\"Smartphone\", \"P002\", category1, 800),\n",
    "    Product(\"T-shirt\", \"P003\", category2, 25),\n",
    "    Product(\"Jeans\", \"P004\", category2, 40),\n",
    "    Product(\"pen\", \"P005\", category3, 15),\n",
    "    Product(\"Textbook\", \"P006\", category3, 50),\n",
    "    # Add more products here\n",
    "]\n"
   ]
  },
  {
   "cell_type": "code",
   "execution_count": 15,
   "id": "31317aa0",
   "metadata": {},
   "outputs": [],
   "source": [
    "\n",
    "for product in products:\n",
    "    product.category.no_of_products += 1\n"
   ]
  },
  {
   "cell_type": "code",
   "execution_count": 16,
   "id": "21087b1c",
   "metadata": {},
   "outputs": [
    {
     "name": "stdout",
     "output_type": "stream",
     "text": [
      "Category: Electronics, Code: E001, No. of Products: 2\n",
      "Category: Clothing, Code: C002, No. of Products: 2\n",
      "Category: Books, Code: B003, No. of Products: 2\n"
     ]
    }
   ],
   "source": [
    "\n",
    "categories = [category1, category2, category3]\n",
    "for category in categories:\n",
    "    print(f\"Category: {category.name}, Code: {category.code}, No. of Products: {category.no_of_products}\")\n",
    "\n"
   ]
  },
  {
   "cell_type": "code",
   "execution_count": 17,
   "id": "97b59037",
   "metadata": {},
   "outputs": [
    {
     "name": "stdout",
     "output_type": "stream",
     "text": [
      "\n",
      "Products Sorted by Price (High to Low):\n",
      "Product: Laptop, Code: P001, Price: $1200\n",
      "Product: Smartphone, Code: P002, Price: $800\n",
      "Product: Textbook, Code: P006, Price: $50\n",
      "Product: Jeans, Code: P004, Price: $40\n",
      "Product: T-shirt, Code: P003, Price: $25\n",
      "Product: pen, Code: P005, Price: $15\n",
      "\n",
      "Products Sorted by Price (Low to High):\n",
      "Product: pen, Code: P005, Price: $15\n",
      "Product: T-shirt, Code: P003, Price: $25\n",
      "Product: Jeans, Code: P004, Price: $40\n",
      "Product: Textbook, Code: P006, Price: $50\n",
      "Product: Smartphone, Code: P002, Price: $800\n",
      "Product: Laptop, Code: P001, Price: $1200\n"
     ]
    }
   ],
   "source": [
    "# Sort and print products based on price (High to Low)\n",
    "sorted_products_high_to_low = sorted(products, key=lambda x: x.price, reverse=True)\n",
    "print(\"\\nProducts Sorted by Price (High to Low):\")\n",
    "for product in sorted_products_high_to_low:\n",
    "    print(f\"Product: {product.name}, Code: {product.code}, Price: ${product.price}\")\n",
    "\n",
    "# Sort and print products based on price (Low to High)\n",
    "sorted_products_low_to_high = sorted(products, key=lambda x: x.price)\n",
    "print(\"\\nProducts Sorted by Price (Low to High):\")\n",
    "for product in sorted_products_low_to_high:\n",
    "    print(f\"Product: {product.name}, Code: {product.code}, Price: ${product.price}\")\n",
    "\n"
   ]
  },
  {
   "cell_type": "code",
   "execution_count": 18,
   "id": "3b94558b",
   "metadata": {},
   "outputs": [
    {
     "name": "stdout",
     "output_type": "stream",
     "text": [
      "\n",
      "Product Found:\n",
      "Product: T-shirt, Code: P003, Price: $25\n"
     ]
    }
   ],
   "source": [
    "# Search product using its code\n",
    "search_code = \"P003\"  # Replace with the desired product code\n",
    "found_product = None\n",
    "for product in products:\n",
    "    if product.code == search_code:\n",
    "        found_product = product\n",
    "        break\n",
    "\n",
    "if found_product:\n",
    "    print(\"\\nProduct Found:\")\n",
    "    print(f\"Product: {found_product.name}, Code: {found_product.code}, Price: ${found_product.price}\")\n",
    "else:\n",
    "    print(\"\\nProduct not found with the given code.\")\n",
    "\n"
   ]
  },
  {
   "cell_type": "code",
   "execution_count": 20,
   "id": "7dad82ad",
   "metadata": {},
   "outputs": [],
   "source": [
    "#=============================================="
   ]
  },
  {
   "cell_type": "code",
   "execution_count": 32,
   "id": "bbbf172a",
   "metadata": {},
   "outputs": [],
   "source": [
    "class Product:\n",
    "    def __init__(self, name, price):\n",
    "        self.name = name\n",
    "        self.price = price\n",
    "\n",
    "class Category:\n",
    "    def __init__(self, code, parent=None):\n",
    "        self.code = code\n",
    "        self.parent = parent\n",
    "        self.display_name = self.generate_display_name()\n",
    "        self.products = []\n",
    "\n",
    "    def generate_display_name(self):\n",
    "        if self.parent:\n",
    "            return f\"{self.parent.display_name} > {self.code}\"\n",
    "        else:\n",
    "            return self.code\n",
    "\n",
    "def display_category_with_products(category):\n",
    "    print(f\"Category Code: {category.code}\")\n",
    "    print(f\"Display Name: {category.display_name}\")\n",
    "    print(\"Products:\")\n",
    "    for product in category.products:\n",
    "        print(f\" - {product.name}, Price: {product.price}\")\n",
    "    print()\n",
    "\n",
    "def display_products_by_category(categories):\n",
    "    categories.sort(key=lambda x: x.display_name)\n",
    "    for category in categories:\n",
    "        display_category_with_products(category)"
   ]
  },
  {
   "cell_type": "code",
   "execution_count": 34,
   "id": "5be0b7d4",
   "metadata": {},
   "outputs": [
    {
     "name": "stdout",
     "output_type": "stream",
     "text": [
      "Category Code: Vehicle\n",
      "Display Name: Vehicle\n",
      "Products:\n",
      " - Sedan, Price: 25000\n",
      " - SUV, Price: 30000\n",
      " - Hatchback, Price: 20000\n",
      "\n",
      "Category Code: Car\n",
      "Display Name: Vehicle > Car\n",
      "Products:\n",
      " - SUV, Price: 30000\n",
      " - Hatchback, Price: 20000\n",
      "\n",
      "Category Code: Petrol\n",
      "Display Name: Vehicle > Car > Petrol\n",
      "Products:\n",
      " - Hatchback, Price: 20000\n",
      "\n"
     ]
    }
   ],
   "source": [
    "# Create categories\n",
    "vehicle_category = Category(\"Vehicle\")\n",
    "car_category = Category(\"Car\", parent=vehicle_category)\n",
    "petrol_category = Category(\"Petrol\", parent=car_category)\n",
    "# Create products\n",
    "product1 = Product(\"Sedan\", 25000)\n",
    "product2 = Product(\"SUV\", 30000)\n",
    "product3 = Product(\"Hatchback\", 20000)\n",
    "# Assign products to categories\n",
    "vehicle_category.products = [product1, product2, product3]\n",
    "car_category.products = [product2, product3]\n",
    "petrol_category.products = [product3]\n",
    "# Display categories with products\n",
    "categories = [vehicle_category, car_category, petrol_category]\n",
    "for category in categories:\n",
    "    display_category_with_products(category)\n",
    "\n",
    "\n"
   ]
  },
  {
   "cell_type": "code",
   "execution_count": 35,
   "id": "7c8cfef6",
   "metadata": {},
   "outputs": [
    {
     "name": "stdout",
     "output_type": "stream",
     "text": [
      "Category Code: Vehicle\n",
      "Display Name: Vehicle\n",
      "Products:\n",
      " - Sedan, Price: 25000\n",
      " - SUV, Price: 30000\n",
      " - Hatchback, Price: 20000\n",
      "\n",
      "Category Code: Car\n",
      "Display Name: Vehicle > Car\n",
      "Products:\n",
      " - SUV, Price: 30000\n",
      " - Hatchback, Price: 20000\n",
      "\n",
      "Category Code: Petrol\n",
      "Display Name: Vehicle > Car > Petrol\n",
      "Products:\n",
      " - Hatchback, Price: 20000\n",
      "\n"
     ]
    }
   ],
   "source": [
    "# Display products grouped by category\n",
    "display_products_by_category(categories)\n",
    "\n"
   ]
  },
  {
   "cell_type": "code",
   "execution_count": 36,
   "id": "61a78177",
   "metadata": {},
   "outputs": [],
   "source": [
    "#================================================"
   ]
  },
  {
   "cell_type": "code",
   "execution_count": null,
   "id": "41532de7",
   "metadata": {},
   "outputs": [],
   "source": []
  }
 ],
 "metadata": {
  "kernelspec": {
   "display_name": "Python 3 (ipykernel)",
   "language": "python",
   "name": "python3"
  },
  "language_info": {
   "codemirror_mode": {
    "name": "ipython",
    "version": 3
   },
   "file_extension": ".py",
   "mimetype": "text/x-python",
   "name": "python",
   "nbconvert_exporter": "python",
   "pygments_lexer": "ipython3",
   "version": "3.9.13"
  }
 },
 "nbformat": 4,
 "nbformat_minor": 5
}
