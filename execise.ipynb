{
 "cells": [
  {
   "cell_type": "code",
   "execution_count": 26,
   "id": "db230302",
   "metadata": {},
   "outputs": [],
   "source": [
    "class Category:\n",
    "    def __init__(self, name, code):\n",
    "        self.name = name\n",
    "        self.code = code\n",
    "        self.no_of_products = 0\n",
    "\n",
    "class Product:\n",
    "    def __init__(self, name, code, category, price):\n",
    "        self.name = name\n",
    "        self.code = code\n",
    "        self.category = category\n",
    "        self.price = price\n",
    "\n",
    "category1 = Category(\"Electronics\", \"E001\")\n",
    "category2 = Category(\"Clothing\", \"C002\")\n",
    "category3 = Category(\"Books\", \"B003\")\n",
    "# Create 10 different Product objects\n",
    "products = [\n",
    "    Product(\"Laptop\", \"P001\", category1, 1200),\n",
    "    Product(\"Smartphone\", \"P002\", category1, 800),\n",
    "    Product(\"T-shirt\", \"P003\", category2, 25),\n",
    "    Product(\"Jeans\", \"P004\", category2, 40),\n",
    "    Product(\"pen\", \"P005\", category3, 15),\n",
    "    Product(\"Textbook\", \"P006\", category3, 50),\n",
    "    # Add more products here\n",
    "]\n"
   ]
  },
  {
   "cell_type": "code",
   "execution_count": 27,
   "id": "99d58582",
   "metadata": {},
   "outputs": [],
   "source": [
    "\n",
    "for product in products:\n",
    "    product.category.no_of_products += 1\n"
   ]
  },
  {
   "cell_type": "code",
   "execution_count": 28,
   "id": "46d74945",
   "metadata": {},
   "outputs": [
    {
     "name": "stdout",
     "output_type": "stream",
     "text": [
      "Category: Electronics, Code: E001, No. of Products: 2\n",
      "Category: Clothing, Code: C002, No. of Products: 2\n",
      "Category: Books, Code: B003, No. of Products: 2\n"
     ]
    }
   ],
   "source": [
    "\n",
    "categories = [category1, category2, category3]\n",
    "for category in categories:\n",
    "    print(f\"Category: {category.name}, Code: {category.code}, No. of Products: {category.no_of_products}\")\n",
    "\n"
   ]
  },
  {
   "cell_type": "code",
   "execution_count": 29,
   "id": "7a45e020",
   "metadata": {},
   "outputs": [
    {
     "name": "stdout",
     "output_type": "stream",
     "text": [
      "\n",
      "Products Sorted by Price (High to Low):\n",
      "Product: Laptop, Code: P001, Price: $1200\n",
      "Product: Smartphone, Code: P002, Price: $800\n",
      "Product: Textbook, Code: P006, Price: $50\n",
      "Product: Jeans, Code: P004, Price: $40\n",
      "Product: T-shirt, Code: P003, Price: $25\n",
      "Product: pen, Code: P005, Price: $15\n",
      "\n",
      "Products Sorted by Price (Low to High):\n",
      "Product: pen, Code: P005, Price: $15\n",
      "Product: T-shirt, Code: P003, Price: $25\n",
      "Product: Jeans, Code: P004, Price: $40\n",
      "Product: Textbook, Code: P006, Price: $50\n",
      "Product: Smartphone, Code: P002, Price: $800\n",
      "Product: Laptop, Code: P001, Price: $1200\n"
     ]
    }
   ],
   "source": [
    "# Sort and print products based on price (High to Low)\n",
    "sorted_products_high_to_low = sorted(products, key=lambda x: x.price, reverse=True)\n",
    "print(\"\\nProducts Sorted by Price (High to Low):\")\n",
    "for product in sorted_products_high_to_low:\n",
    "    print(f\"Product: {product.name}, Code: {product.code}, Price: ${product.price}\")\n",
    "\n",
    "# Sort and print products based on price (Low to High)\n",
    "sorted_products_low_to_high = sorted(products, key=lambda x: x.price)\n",
    "print(\"\\nProducts Sorted by Price (Low to High):\")\n",
    "for product in sorted_products_low_to_high:\n",
    "    print(f\"Product: {product.name}, Code: {product.code}, Price: ${product.price}\")\n",
    "\n"
   ]
  },
  {
   "cell_type": "code",
   "execution_count": 30,
   "id": "7e990f30",
   "metadata": {},
   "outputs": [
    {
     "name": "stdout",
     "output_type": "stream",
     "text": [
      "\n",
      "Product Found:\n",
      "Product: T-shirt, Code: P003, Price: $25\n"
     ]
    }
   ],
   "source": [
    "# Search product using its code\n",
    "search_code = \"P003\"  # Replace with the desired product code\n",
    "found_product = None\n",
    "for product in products:\n",
    "    if product.code == search_code:\n",
    "        found_product = product\n",
    "        break\n",
    "\n",
    "if found_product:\n",
    "    print(\"\\nProduct Found:\")\n",
    "    print(f\"Product: {found_product.name}, Code: {found_product.code}, Price: ${found_product.price}\")\n",
    "else:\n",
    "    print(\"\\nProduct not found with the given code.\")\n",
    "\n"
   ]
  },
  {
   "cell_type": "code",
   "execution_count": 31,
   "id": "3dd6749c",
   "metadata": {},
   "outputs": [],
   "source": [
    "#=============================================="
   ]
  },
  {
   "cell_type": "code",
   "execution_count": 32,
   "id": "4ac9384d",
   "metadata": {},
   "outputs": [],
   "source": [
    "class Product:\n",
    "    def __init__(self, name, price):\n",
    "        self.name = name\n",
    "        self.price = price\n",
    "\n",
    "class Category:\n",
    "    def __init__(self, code, parent=None):\n",
    "        self.code = code\n",
    "        self.parent = parent\n",
    "        self.display_name = self.generate_display_name()\n",
    "        self.products = []\n",
    "\n",
    "    def generate_display_name(self):\n",
    "        if self.parent:\n",
    "            return f\"{self.parent.display_name} > {self.code}\"\n",
    "        else:\n",
    "            return self.code\n",
    "\n",
    "def display_category_with_products(category):\n",
    "    print(f\"Category Code: {category.code}\")\n",
    "    print(f\"Display Name: {category.display_name}\")\n",
    "    print(\"Products:\")\n",
    "    for product in category.products:\n",
    "        print(f\" - {product.name}, Price: {product.price}\")\n",
    "    print()\n",
    "\n",
    "def display_products_by_category(categories):\n",
    "    categories.sort(key=lambda x: x.display_name)\n",
    "    for category in categories:\n",
    "        display_category_with_products(category)"
   ]
  },
  {
   "cell_type": "code",
   "execution_count": 33,
   "id": "d53e431d",
   "metadata": {},
   "outputs": [
    {
     "name": "stdout",
     "output_type": "stream",
     "text": [
      "Category Code: Vehicle\n",
      "Display Name: Vehicle\n",
      "Products:\n",
      " - Sedan, Price: 25000\n",
      " - SUV, Price: 30000\n",
      " - Hatchback, Price: 20000\n",
      "\n",
      "Category Code: Car\n",
      "Display Name: Vehicle > Car\n",
      "Products:\n",
      " - SUV, Price: 30000\n",
      " - Hatchback, Price: 20000\n",
      "\n",
      "Category Code: Petrol\n",
      "Display Name: Vehicle > Car > Petrol\n",
      "Products:\n",
      " - Hatchback, Price: 20000\n",
      "\n"
     ]
    }
   ],
   "source": [
    "# Create categories\n",
    "vehicle_category = Category(\"Vehicle\")\n",
    "car_category = Category(\"Car\", parent=vehicle_category)\n",
    "petrol_category = Category(\"Petrol\", parent=car_category)\n",
    "# Create products\n",
    "product1 = Product(\"Sedan\", 25000)\n",
    "product2 = Product(\"SUV\", 30000)\n",
    "product3 = Product(\"Hatchback\", 20000)\n",
    "# Assign products to categories\n",
    "vehicle_category.products = [product1, product2, product3]\n",
    "car_category.products = [product2, product3]\n",
    "petrol_category.products = [product3]\n",
    "# Display categories with products\n",
    "categories = [vehicle_category, car_category, petrol_category]\n",
    "for category in categories:\n",
    "    display_category_with_products(category)\n",
    "\n",
    "\n"
   ]
  },
  {
   "cell_type": "code",
   "execution_count": 34,
   "id": "011600e1",
   "metadata": {},
   "outputs": [
    {
     "name": "stdout",
     "output_type": "stream",
     "text": [
      "Category Code: Vehicle\n",
      "Display Name: Vehicle\n",
      "Products:\n",
      " - Sedan, Price: 25000\n",
      " - SUV, Price: 30000\n",
      " - Hatchback, Price: 20000\n",
      "\n",
      "Category Code: Car\n",
      "Display Name: Vehicle > Car\n",
      "Products:\n",
      " - SUV, Price: 30000\n",
      " - Hatchback, Price: 20000\n",
      "\n",
      "Category Code: Petrol\n",
      "Display Name: Vehicle > Car > Petrol\n",
      "Products:\n",
      " - Hatchback, Price: 20000\n",
      "\n"
     ]
    }
   ],
   "source": [
    "# Display products grouped by category\n",
    "display_products_by_category(categories)\n",
    "\n"
   ]
  },
  {
   "cell_type": "code",
   "execution_count": 35,
   "id": "11d9641b",
   "metadata": {},
   "outputs": [],
   "source": [
    "#================================================"
   ]
  },
  {
   "cell_type": "code",
   "execution_count": 36,
   "id": "356a8b01",
   "metadata": {},
   "outputs": [
    {
     "name": "stdout",
     "output_type": "stream",
     "text": [
      "Negative stock not allowed\n",
      "Product: Product 1\n",
      "Product: Product 2\n",
      "Product: Product 3\n",
      "Product: Product 4\n",
      "Product: Product 5\n",
      "Product: Product 1\n",
      " - Stock at Location 1: 50\n",
      " - Stock at Location 2: -20\n",
      "Product: Product 2\n",
      " - Stock at Location 3: 30\n",
      "Product: Product 3\n",
      " - Stock at Location 2: 25\n",
      "Product: Product 4\n",
      " - Stock at Location 1: 10\n",
      "Product: Product 5\n",
      " - Stock at Location 4: 15\n",
      "Location 1: Product 1, Product 4\n",
      "Location 2: Product 1, Product 3\n",
      "Location 3: Product 2\n",
      "Location 4: Product 5\n"
     ]
    }
   ],
   "source": [
    "class Location:\n",
    "    def __init__(self, name, code):\n",
    "        self.name = name\n",
    "        self.code = code\n",
    "\n",
    "class Movement:\n",
    "    movements = []\n",
    "\n",
    "    def __init__(self, from_location, to_location, product, quantity):\n",
    "        self.from_location = from_location\n",
    "        self.to_location = to_location\n",
    "        self.product = product\n",
    "        self.quantity = quantity\n",
    "        Movement.movements.append(self)\n",
    "\n",
    "    @staticmethod\n",
    "    def movements_by_product(product):\n",
    "        return [movement for movement in Movement.movements if movement.product == product]\n",
    "\n",
    "class Product:\n",
    "    def __init__(self, name):\n",
    "        self.name = name\n",
    "        self.stock_at_locations = {}\n",
    "\n",
    "    def add_stock(self, location, quantity):\n",
    "        if location in self.stock_at_locations:\n",
    "            self.stock_at_locations[location] += quantity\n",
    "        else:\n",
    "            self.stock_at_locations[location] = quantity\n",
    "\n",
    "        if self.stock_at_locations[location] < 0:\n",
    "            raise ValueError(\"Negative stock not allowed\")\n",
    "\n",
    "# Create location objects\n",
    "locations = [\n",
    "    Location(\"Location 1\", \"L1\"),\n",
    "    Location(\"Location 2\", \"L2\"),\n",
    "    Location(\"Location 3\", \"L3\"),\n",
    "    Location(\"Location 4\", \"L4\")\n",
    "]\n",
    "\n",
    "# Create product objects\n",
    "products = [\n",
    "    Product(\"Product 1\"),\n",
    "    Product(\"Product 2\"),\n",
    "    Product(\"Product 3\"),\n",
    "    Product(\"Product 4\"),\n",
    "    Product(\"Product 5\")\n",
    "]\n",
    "\n",
    "# Move products between locations\n",
    "try:\n",
    "    products[0].add_stock(locations[0], 50)\n",
    "    products[0].add_stock(locations[1], -20)  # This will raise an exception\n",
    "except ValueError as e:\n",
    "    print(e)\n",
    "\n",
    "products[1].add_stock(locations[2], 30)\n",
    "products[2].add_stock(locations[1], 25)\n",
    "products[3].add_stock(locations[0], 10)\n",
    "products[4].add_stock(locations[3], 15)\n",
    "\n",
    "# Display movements of each product\n",
    "for product in products:\n",
    "    product_movements = Movement.movements_by_product(product.name)\n",
    "    print(f\"Product: {product.name}\")\n",
    "    for movement in product_movements:\n",
    "        print(f\" - Moved {movement.quantity} from {movement.from_location.name} to {movement.to_location.name}\")\n",
    "\n",
    "# Display product details with stock at various locations\n",
    "for product in products:\n",
    "    print(f\"Product: {product.name}\")\n",
    "    for location, stock in product.stock_at_locations.items():\n",
    "        print(f\" - Stock at {location.name}: {stock}\")\n",
    "\n",
    "# Display product list by location (group by location)\n",
    "location_product_dict = {location: [] for location in locations}\n",
    "for product in products:\n",
    "    for location, stock in product.stock_at_locations.items():\n",
    "        location_product_dict[location].append(product.name)\n",
    "\n",
    "for location, products in location_product_dict.items():\n",
    "    print(f\"{location.name}: {', '.join(products)}\")\n"
   ]
  },
  {
   "cell_type": "code",
   "execution_count": 37,
   "id": "73a21d24",
   "metadata": {},
   "outputs": [],
   "source": [
    "#=================================================\n"
   ]
  },
  {
   "cell_type": "code",
   "execution_count": 38,
   "id": "f1b84053",
   "metadata": {},
   "outputs": [
    {
     "name": "stdout",
     "output_type": "stream",
     "text": [
      "Stock movements for Warehouse_A:\n",
      "{'item': 'Product1', 'quantity': 10, 'type': 'In'}\n",
      "{'item': 'Product2', 'quantity': 5, 'type': 'Out'}\n",
      "Stock movements for Store_B:\n",
      "{'item': 'Product1', 'quantity': 3, 'type': 'Out'}\n"
     ]
    }
   ],
   "source": [
    "import os\n",
    "import json\n",
    "\n",
    "class Location:\n",
    "    def __init__(self, name):\n",
    "        self.name = name\n",
    "        self.stock_movements = []\n",
    "\n",
    "    def add_stock_movement(self, movement):\n",
    "        self.stock_movements.append(movement)\n",
    "\n",
    "    def save_to_file(self):\n",
    "        filename = f\"{self.name}_stock_movement.json\"\n",
    "        filepath = os.path.join(\"stock_movements\", filename)\n",
    "        \n",
    "        if not os.path.exists(\"stock_movements\"):\n",
    "            os.makedirs(\"stock_movements\")\n",
    "\n",
    "        with open(filepath, \"w\") as file:\n",
    "            json.dump(self.stock_movements, file)\n",
    "\n",
    "    def load_from_file(self):\n",
    "        filename = f\"{self.name}_stock_movement.json\"\n",
    "        filepath = os.path.join(\"stock_movements\", filename)\n",
    "\n",
    "        if os.path.exists(filepath):\n",
    "            with open(filepath, \"r\") as file:\n",
    "                self.stock_movements = json.load(file)\n",
    "                return self.stock_movements\n",
    "        else:\n",
    "            return []\n",
    "\n",
    "# Example usage\n",
    "location1 = Location(\"Warehouse_A\")\n",
    "location1.add_stock_movement({\"item\": \"Product1\", \"quantity\": 10, \"type\": \"In\"})\n",
    "location1.add_stock_movement({\"item\": \"Product2\", \"quantity\": 5, \"type\": \"Out\"})\n",
    "location1.save_to_file()\n",
    "\n",
    "location2 = Location(\"Store_B\")\n",
    "location2.add_stock_movement({\"item\": \"Product1\", \"quantity\": 3, \"type\": \"Out\"})\n",
    "location2.save_to_file()\n",
    "\n",
    "# Load and display stock movements\n",
    "loaded_location1 = Location(\"Warehouse_A\")\n",
    "loaded_data1 = loaded_location1.load_from_file()\n",
    "print(f\"Stock movements for {loaded_location1.name}:\")\n",
    "for movement in loaded_data1:\n",
    "    print(movement)\n",
    "\n",
    "loaded_location2 = Location(\"Store_B\")\n",
    "loaded_data2 = loaded_location2.load_from_file()\n",
    "print(f\"Stock movements for {loaded_location2.name}:\")\n",
    "for movement in loaded_data2:\n",
    "    print(movement)\n"
   ]
  },
  {
   "cell_type": "code",
   "execution_count": null,
   "id": "63c4a8bf",
   "metadata": {},
   "outputs": [],
   "source": []
  }
 ],
 "metadata": {
  "kernelspec": {
   "display_name": "Python 3 (ipykernel)",
   "language": "python",
   "name": "python3"
  },
  "language_info": {
   "codemirror_mode": {
    "name": "ipython",
    "version": 3
   },
   "file_extension": ".py",
   "mimetype": "text/x-python",
   "name": "python",
   "nbconvert_exporter": "python",
   "pygments_lexer": "ipython3",
   "version": "3.9.13"
  }
 },
 "nbformat": 4,
 "nbformat_minor": 5
}
